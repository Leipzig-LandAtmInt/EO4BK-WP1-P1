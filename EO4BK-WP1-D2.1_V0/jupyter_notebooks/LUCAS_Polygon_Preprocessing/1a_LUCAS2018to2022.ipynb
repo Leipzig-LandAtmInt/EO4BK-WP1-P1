{
 "cells": [
  {
   "cell_type": "markdown",
   "metadata": {},
   "source": [
    "# Join LUCAS 2018 and 2022 for 2018-2022 time-series"
   ]
  },
  {
   "cell_type": "code",
   "execution_count": 4,
   "metadata": {},
   "outputs": [],
   "source": [
    "import geopandas as gpd\n",
    "from dotenv import load_dotenv\n",
    "import matplotlib.pyplot as plt\n",
    "import os\n",
    "import glob"
   ]
  },
  {
   "cell_type": "code",
   "execution_count": 5,
   "metadata": {},
   "outputs": [],
   "source": [
    "load_dotenv()\n",
    "LUCAS = os.getenv('LUCAS')\n",
    "files = glob.iglob(f\"{LUCAS}/*2018_eo4bk.gpkg\")\n",
    "# gdfs = (gpd.read_file(file, layer = 'hd_data') for file in files )\n",
    "gpkg18_dict = {}\n",
    "for file in files:\n",
    "\n",
    "    # basename: returns the basename of the pathname path: e.g., basename(foo/bar.exe) --> 'bar.exe'\n",
    "    # splitext: splits the pathname into pair (root, ext): e.g., splitext(bar.exe) --> ('bar','.exe)\n",
    "    # index to avoid brakets \n",
    "    key = os.path.splitext(os.path.basename(file))[0]\n",
    "\n",
    "    # Read the geopackage as geodataframe\n",
    "    gdf = gpd.read_file(file, layer='hd_data')\n",
    "    \n",
    "    # stores the geodataframes in dictionary, for each key\n",
    "    gpkg18_dict[key] = gdf\n",
    "\n",
    "\n",
    "files = glob.iglob(f\"{LUCAS}/*2022_eo4bk.gpkg\")\n",
    "gpkg22_dict = {}\n",
    "for file in files:\n",
    "\n",
    "    # basename: returns the basename of the pathname path: e.g., basename(foo/bar.exe) --> 'bar.exe'\n",
    "    # splitext: splits the pathname into pair (root, ext): e.g., splitext(bar.exe) --> ('bar','.exe)\n",
    "    # index to avoid brakets \n",
    "    key = os.path.splitext(os.path.basename(file))[0]\n",
    "\n",
    "    # Read the geopackage as geodataframe\n",
    "    gdf = gpd.read_file(file, layer='hd_data')\n",
    "    \n",
    "    # stores the geodataframes in dictionary, for each key\n",
    "    gpkg22_dict[key] = gdf"
   ]
  },
  {
   "cell_type": "code",
   "execution_count": null,
   "metadata": {},
   "outputs": [],
   "source": []
  },
  {
   "cell_type": "code",
   "execution_count": 6,
   "metadata": {},
   "outputs": [],
   "source": [
    "gpkg18_22_dict = {} \n",
    "\n",
    "for keysnbr in range(0,len(gpkg18_dict.keys())):\n",
    "    if sorted(list(gpkg22_dict.keys()))[keysnbr].removesuffix('_2022_eo4bk') == sorted(list(gpkg18_dict.keys()))[keysnbr].removesuffix('_2018_eo4bk'):\n",
    "\n",
    "        key = sorted(list(gpkg22_dict.keys()))[keysnbr].removesuffix('_2022_eo4bk')\n",
    "\n",
    "        overlayed = gpd.overlay(gpkg18_dict[f'{key}_2018_eo4bk'], gpkg22_dict[f'{key}_2022_eo4bk'], how = 'intersection')\n",
    "\n",
    "        gpkg18_22_dict[key] = overlayed\n"
   ]
  },
  {
   "cell_type": "code",
   "execution_count": 7,
   "metadata": {},
   "outputs": [],
   "source": [
    "for key in gpkg18_22_dict.keys():\n",
    "\n",
    "    gpkg18_22_dict[key] = gpkg18_22_dict[key].rename(columns = {'point_id_1':'point_id',\n",
    "                                                    'nuts0_1':'nuts0',\n",
    "                                                    'nuts1_1':'nuts1',\n",
    "                                                    'nuts2_1':'nuts2',\n",
    "                                                    'nuts3_1':'nuts3',\n",
    "                                                    'survey_date_1':'survey_date_2018',\n",
    "                                                    'survey_year_1':'survey_year_2018',\n",
    "                                                    'survey_date_2': 'survey_date_2022',\n",
    "                                                    'survey_year_2': 'survey_year_2022',\n",
    "                                                    'lc1_1':'lc1_2018',\n",
    "                                                    'lc2_1':'lc2_2018',\n",
    "                                                    'lc3_1':'lc3_2018',\n",
    "                                                    'lc1_spec_1':'lc1_spec_2018',\n",
    "                                                    'lc2_spec_1':'lc2_spec_2018' ,\n",
    "                                                    'lc_eo4bk_1': 'lc_eo4bk_2018',\n",
    "                                                    'lc1_2':'lc1_2022',\n",
    "                                                    'lc2_2':'lc2_2022',\n",
    "                                                    'lc3_2':'lc3_2022',\n",
    "                                                    'lc1_spec_2':'lc1_spec_2022',\n",
    "                                                    'lc2_spec_2':'lc2_spec_2022' ,\n",
    "                                                    'lc_eo4bk_2': 'lc_eo4bk_2022',\n",
    "                                                    'survey_wm_1':'survey_wm_2018',\n",
    "                                                    'survey_wm_type_1':'survey_wm_type_2018',\n",
    "                                                    'survey_wm_source_1':'survey_wm_source_2018', \n",
    "                                                    'survey_wm_delivery_1':'survey_wm_delivery_2018',\n",
    "                                                    'survey_wm_2':'survey_wm_2022',\n",
    "                                                    'survey_wm_type_2':'survey_wm_type_2022',\n",
    "                                                    'survey_wm_source_2':'survey_wm_source_2022', \n",
    "                                                    'survey_wm_delivery_2':'survey_wm_delivery_2022',\n",
    "                                                    # 'survey_wm_reclaim_signs':'survey_wm_reclaim_signs_2022',\n",
    "                                                    'survey_lm_crop_resid_1': 'survey_lm_crop_resid_2018',\n",
    "                                                    'survey_lc_lu_special_remark_1':'survey_lc_lu_special_remark_2018',\n",
    "                                                    'survey_lm_crop_resid_2':'survey_lm_crop_resid_2022',\n",
    "                                                    'survey_lc_lu_special_remark_2':'survey_lc_lu_special_remark_2022'\n",
    "                                                    # 'survey_inspire_unvegetated':'survey_inspire_unvegetated_2022', \n",
    "                                                    # 'survey_lm_stand_veget':'survey_lm_stand_veget_2022',\n",
    "                                                    # 'survey_lm_by_veget':'survey_lm_by_veget_2022', \n",
    "                                                    # 'survey_lm_crop_resid_perc':'survey_lm_crop_resid_perc_2022'\n",
    "                                                \n",
    "\n",
    "    })\n",
    "    # drop dublicates \n",
    "\n",
    "    gpkg18_22_dict[key] = gpkg18_22_dict[key].drop(['point_id_2','nuts0_2','nuts1_2','nuts2_2','nuts3_2','poly_area_sqm_2','poly_area_sqm_1','survey_wm_reclaim_signs','survey_inspire_unvegetated','survey_lm_stand_veget' ,'survey_lm_by_veget','survey_lm_crop_resid_perc'], axis = 1)"
   ]
  },
  {
   "cell_type": "code",
   "execution_count": 8,
   "metadata": {},
   "outputs": [],
   "source": [
    "for key in gpkg18_22_dict.keys():\n",
    "    gpkg18_22_dict[key]['poly_area_sqm'] = gpkg18_22_dict[key].area"
   ]
  },
  {
   "cell_type": "code",
   "execution_count": 9,
   "metadata": {},
   "outputs": [],
   "source": [
    "eo4bk_class_outputpath = '/net/projects/EO4BK/WP1/P1-EO4BK/scripts/EO4BK-WP1-P1/eo4bksentleslim/'\n",
    "\n",
    "\n",
    "names_list = list(gpkg18_22_dict.keys())\n",
    "\n",
    "for name in names_list:\n",
    "    hd_gdf = gpkg18_22_dict.get(f\"{name}\")\n",
    "    if hd_gdf is not None:\n",
    "        hd_gdf.to_file(f\"{eo4bk_class_outputpath}/{name}_201822_eo4bk.gpkg\", driver='GPKG', layer='hd_data')\n",
    "\n"
   ]
  },
  {
   "cell_type": "code",
   "execution_count": 22,
   "metadata": {},
   "outputs": [
    {
     "data": {
      "text/plain": [
       "<Axes: >"
      ]
     },
     "execution_count": 22,
     "metadata": {},
     "output_type": "execute_result"
    },
    {
     "data": {
      "image/png": "[encoded data removed]",
      "text/plain": [
       "<Figure size 400x400 with 1 Axes>"
      ]
     },
     "metadata": {},
     "output_type": "display_data"
    }
   ],
   "source": [
    "load_dotenv()\n",
    "LUCAS = os.getenv('LUCAS')\n",
    "\n",
    "wheat_hd_2022 = gpd.read_file(f'{LUCAS}/Wheat_2022_eo4bk.gpkg', layer = 'hd_data')\n",
    "wheat_hd_2018 = gpd.read_file(f'{LUCAS}/Wheat_2018_eo4bk.gpkg', layer = 'hd_data')\n",
    "\n",
    "wheat_2018_22 = gpkg18_22_dict['Wheat']\n",
    "\n",
    "fig, ax = plt.subplots(figsize =(4,4)) \n",
    "wheat_hd_2022[wheat_hd_2022['point_id'] == '33602250'].geometry.plot(ax = ax, alpha = 0.3, color = 'red')\n",
    "wheat_hd_2018[wheat_hd_2018['point_id'] == '33602250'].geometry.plot(ax = ax, alpha = 0.2, color = 'blue')\n",
    "wheat_2018_22[wheat_2018_22['point_id'] == '33602250'].boundary.plot(ax = ax, color = 'black')"
   ]
  }
 ],
 "metadata": {
  "kernelspec": {
   "display_name": "wp1v3",
   "language": "python",
   "name": "python3"
  },
  "language_info": {
   "codemirror_mode": {
    "name": "ipython",
    "version": 3
   },
   "file_extension": ".py",
   "mimetype": "text/x-python",
   "name": "python",
   "nbconvert_exporter": "python",
   "pygments_lexer": "ipython3",
   "version": "3.12.4"
  }
 },
 "nbformat": 4,
 "nbformat_minor": 2
}
